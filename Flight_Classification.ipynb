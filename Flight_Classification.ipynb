{
 "cells": [
  {
   "cell_type": "markdown",
   "metadata": {},
   "source": [
    "# Importing Spark and its machine learning packages"
   ]
  },
  {
   "cell_type": "code",
   "execution_count": 1,
   "metadata": {},
   "outputs": [],
   "source": [
    "import findspark\n",
    "findspark.init()\n",
    "import pyspark"
   ]
  },
  {
   "cell_type": "code",
   "execution_count": 2,
   "metadata": {},
   "outputs": [],
   "source": [
    "# Import modules\n",
    "from pyspark.sql.types import *\n",
    "from pyspark.sql.functions import *\n",
    "from pyspark.ml.classification import NaiveBayes\n",
    "from pyspark.ml.feature import VectorAssembler\n",
    "from pyspark.sql import SparkSession\n",
    "\n",
    "# Create and initialize Spark session\n",
    "spark = SparkSession.builder.appName(\"Classification in Apache Spark\") \\\n",
    ".config(\"spark.some.config.option\", \"some-value\").getOrCreate()"
   ]
  },
  {
   "cell_type": "markdown",
   "metadata": {},
   "source": [
    "# Loading flights data"
   ]
  },
  {
   "cell_type": "code",
   "execution_count": 3,
   "metadata": {},
   "outputs": [
    {
     "name": "stdout",
     "output_type": "stream",
     "text": [
      "+----------+---------+-------+---------------+-------------+--------+--------+\n",
      "|DayofMonth|DayOfWeek|Carrier|OriginAirportID|DestAirportID|DepDelay|ArrDelay|\n",
      "+----------+---------+-------+---------------+-------------+--------+--------+\n",
      "|        19|        5|     DL|          11433|        13303|      -3|       1|\n",
      "|        19|        5|     DL|          14869|        12478|       0|      -8|\n",
      "|        19|        5|     DL|          14057|        14869|      -4|     -15|\n",
      "+----------+---------+-------+---------------+-------------+--------+--------+\n",
      "only showing top 3 rows\n",
      "\n"
     ]
    }
   ],
   "source": [
    "# Create flights db schema\n",
    "flightSchema = StructType([\n",
    "  StructField(\"DayofMonth\", IntegerType(), False),\n",
    "  StructField(\"DayOfWeek\", IntegerType(), False),\n",
    "  StructField(\"Carrier\", StringType(), False),\n",
    "  StructField(\"OriginAirportID\", IntegerType(), False),\n",
    "  StructField(\"DestAirportID\", IntegerType(), False),\n",
    "  StructField(\"DepDelay\", IntegerType(), False),\n",
    "  StructField(\"ArrDelay\", IntegerType(), False),\n",
    "])\n",
    "\n",
    "# Read csv data from file into DataFrame\n",
    "df = spark.read.csv('flights.csv', schema=flightSchema, header=True)\n",
    "df.show(3)"
   ]
  },
  {
   "cell_type": "markdown",
   "metadata": {},
   "source": [
    "# Handling missing data"
   ]
  },
  {
   "cell_type": "code",
   "execution_count": 4,
   "metadata": {},
   "outputs": [],
   "source": [
    "# Drop rows if there is at least one empty column\n",
    "df_non_na = df.dropna(how=\"any\", subset=[\"DayofMonth\",\"DayOfWeek\",\"Carrier\",\"OriginAirportID\",\n",
    "                       \"DestAirportID\",\"ArrDelay\", \"DepDelay\"])"
   ]
  },
  {
   "cell_type": "markdown",
   "metadata": {},
   "source": [
    "# Select data features and create the \"Late\" column from the \"ArrDelay\" converted to binary using the value > 15"
   ]
  },
  {
   "cell_type": "code",
   "execution_count": 28,
   "metadata": {},
   "outputs": [
    {
     "name": "stdout",
     "output_type": "stream",
     "text": [
      "+----------+---------+---------------+-------------+----+\n",
      "|DayofMonth|DayOfWeek|OriginAirportID|DestAirportID|Late|\n",
      "+----------+---------+---------------+-------------+----+\n",
      "|        19|        5|          11433|        13303|   0|\n",
      "|        19|        5|          14869|        12478|   0|\n",
      "|        19|        5|          14057|        14869|   0|\n",
      "|        19|        5|          15016|        11433|   1|\n",
      "|        19|        5|          11193|        12892|   0|\n",
      "|        19|        5|          10397|        15016|   0|\n",
      "|        19|        5|          15016|        10397|   0|\n",
      "|        19|        5|          10397|        14869|   1|\n",
      "|        19|        5|          10397|        10423|   1|\n",
      "|        19|        5|          11278|        10397|   1|\n",
      "|        19|        5|          14107|        13487|   0|\n",
      "|        19|        5|          11433|        11298|   1|\n",
      "|        19|        5|          11298|        11433|   1|\n",
      "|        19|        5|          11433|        12892|   0|\n",
      "|        19|        5|          10397|        12451|   1|\n",
      "|        19|        5|          12451|        10397|   1|\n",
      "|        19|        5|          12953|        10397|   0|\n",
      "|        19|        5|          11433|        12953|   0|\n",
      "|        19|        5|          10397|        14771|   1|\n",
      "|        19|        5|          13204|        10397|   1|\n",
      "+----------+---------+---------------+-------------+----+\n",
      "only showing top 20 rows\n",
      "\n"
     ]
    }
   ],
   "source": [
    "data = df_non_na.select(\n",
    "     \"DayofMonth\", \"DayOfWeek\", \"OriginAirportID\", \"DestAirportID\", ((col(\"ArrDelay\") > 15).cast(\"Int\").alias(\"Late\")))\n",
    "data.show()"
   ]
  },
  {
   "cell_type": "markdown",
   "metadata": {},
   "source": [
    "# Split the data into training and testing"
   ]
  },
  {
   "cell_type": "code",
   "execution_count": null,
   "metadata": {},
   "outputs": [
    {
     "name": "stdout",
     "output_type": "stream",
     "text": [
      "Training data rows: 1893012 ; Testing data rows: 809206\n"
     ]
    }
   ],
   "source": [
    "# Divide data, 70% for training, 30% for testing\n",
    "dividedData = data.randomSplit([0.7, 0.3]) \n",
    "trainingData = dividedData[0] #index 0 = data training\n",
    "testingData = dividedData[1] #index 1 = data testing\n",
    "train_rows = trainingData.count()\n",
    "test_rows = testingData.count()\n",
    "print(\"Training data rows:\", train_rows, \"; Testing data rows:\", test_rows)"
   ]
  },
  {
   "cell_type": "markdown",
   "metadata": {},
   "source": [
    "# Prepare the training data"
   ]
  },
  {
   "cell_type": "code",
   "execution_count": 11,
   "metadata": {},
   "outputs": [
    {
     "name": "stdout",
     "output_type": "stream",
     "text": [
      "+-------------------------+-----+\n",
      "|features                 |label|\n",
      "+-------------------------+-----+\n",
      "|[1.0,1.0,10140.0,10397.0]|0    |\n",
      "|[1.0,1.0,10140.0,11298.0]|0    |\n",
      "|[1.0,1.0,10140.0,11298.0]|0    |\n",
      "|[1.0,1.0,10140.0,11298.0]|0    |\n",
      "|[1.0,1.0,10140.0,11298.0]|0    |\n",
      "|[1.0,1.0,10140.0,11298.0]|0    |\n",
      "|[1.0,1.0,10140.0,11298.0]|0    |\n",
      "|[1.0,1.0,10140.0,12266.0]|0    |\n",
      "|[1.0,1.0,10140.0,12266.0]|1    |\n",
      "|[1.0,1.0,10140.0,13487.0]|0    |\n",
      "|[1.0,1.0,10299.0,13487.0]|0    |\n",
      "|[1.0,1.0,10299.0,13830.0]|1    |\n",
      "|[1.0,1.0,10299.0,14057.0]|0    |\n",
      "|[1.0,1.0,10299.0,14747.0]|0    |\n",
      "|[1.0,1.0,10299.0,14747.0]|0    |\n",
      "|[1.0,1.0,10299.0,14747.0]|0    |\n",
      "|[1.0,1.0,10299.0,14747.0]|0    |\n",
      "|[1.0,1.0,10299.0,14747.0]|0    |\n",
      "|[1.0,1.0,10299.0,14747.0]|0    |\n",
      "|[1.0,1.0,10299.0,14747.0]|0    |\n",
      "+-------------------------+-----+\n",
      "only showing top 20 rows\n",
      "\n"
     ]
    }
   ],
   "source": [
    "# Define an assembler\n",
    "assembler = VectorAssembler(inputCols = [\"DayofMonth\", \"DayOfWeek\", \"OriginAirportID\", \"DestAirportID\"], outputCol=\"features\")\n",
    "\n",
    "trainingDataFinal = assembler.transform(trainingData).select(col(\"features\"), col(\"Late\").alias(\"label\"))\n",
    "\n",
    "trainingDataFinal.show(truncate=False)"
   ]
  },
  {
   "cell_type": "markdown",
   "metadata": {},
   "source": [
    "# Train the model"
   ]
  },
  {
   "cell_type": "code",
   "execution_count": 12,
   "metadata": {},
   "outputs": [
    {
     "name": "stdout",
     "output_type": "stream",
     "text": [
      "Model successfully trained!\n"
     ]
    }
   ],
   "source": [
    "# Define the classifier\n",
    "classifier = NaiveBayes(labelCol=\"label\", featuresCol=\"features\", smoothing=1.0, modelType=\"multinomial\")\n",
    "\n",
    "# Train the classifier\n",
    "model = classifier.fit(trainingDataFinal)\n",
    "print(\"Model successfully trained!\")"
   ]
  },
  {
   "cell_type": "markdown",
   "metadata": {},
   "source": [
    "# Prepare the testing data"
   ]
  },
  {
   "cell_type": "code",
   "execution_count": 22,
   "metadata": {},
   "outputs": [
    {
     "name": "stdout",
     "output_type": "stream",
     "text": [
      "+-------------------------+---------+\n",
      "|features                 |trueLabel|\n",
      "+-------------------------+---------+\n",
      "|[1.0,1.0,10140.0,10397.0]|0        |\n",
      "|[1.0,1.0,10140.0,11292.0]|0        |\n",
      "|[1.0,1.0,10140.0,11292.0]|0        |\n",
      "|[1.0,1.0,10140.0,11298.0]|0        |\n",
      "|[1.0,1.0,10140.0,11298.0]|1        |\n",
      "|[1.0,1.0,10140.0,12266.0]|1        |\n",
      "|[1.0,1.0,10299.0,12173.0]|0        |\n",
      "|[1.0,1.0,10299.0,13487.0]|0        |\n",
      "|[1.0,1.0,10299.0,13930.0]|0        |\n",
      "|[1.0,1.0,10299.0,14057.0]|0        |\n",
      "|[1.0,1.0,10299.0,14747.0]|0        |\n",
      "|[1.0,1.0,10299.0,14747.0]|0        |\n",
      "|[1.0,1.0,10299.0,14747.0]|0        |\n",
      "|[1.0,1.0,10299.0,14747.0]|0        |\n",
      "|[1.0,1.0,10299.0,14747.0]|0        |\n",
      "|[1.0,1.0,10299.0,14869.0]|0        |\n",
      "|[1.0,1.0,10397.0,10423.0]|0        |\n",
      "|[1.0,1.0,10397.0,10529.0]|0        |\n",
      "|[1.0,1.0,10397.0,10529.0]|0        |\n",
      "|[1.0,1.0,10397.0,10529.0]|1        |\n",
      "+-------------------------+---------+\n",
      "only showing top 20 rows\n",
      "\n"
     ]
    }
   ],
   "source": [
    "# Call the previous training assembler\n",
    "testingDataFinal = assembler.transform(testingData).select(col(\"features\"), col(\"Late\").alias(\"trueLabel\"))\n",
    "\n",
    "testingDataFinal.show(truncate=False)"
   ]
  },
  {
   "cell_type": "markdown",
   "metadata": {},
   "source": [
    "# Predict testing data using the trained model"
   ]
  },
  {
   "cell_type": "code",
   "execution_count": null,
   "metadata": {},
   "outputs": [
    {
     "name": "stdout",
     "output_type": "stream",
     "text": [
      "+-------------------------+---------+-----------------------------------------+------------------------------------------+----------+\n",
      "|features                 |trueLabel|rawPrediction                            |probability                               |prediction|\n",
      "+-------------------------+---------+-----------------------------------------+------------------------------------------+----------+\n",
      "|[1.0,1.0,10140.0,10397.0]|0        |[-14267.533819553835,-14268.395736949447]|[0.7030610975119547,0.2969389024880454]   |0.0       |\n",
      "|[1.0,1.0,10140.0,11292.0]|0        |[-14889.066369033728,-14887.452500792004]|[0.16605225151295977,0.8339477484870403]  |1.0       |\n",
      "|[1.0,1.0,10140.0,11292.0]|0        |[-14889.066369033728,-14887.452500792004]|[0.16605225151295977,0.8339477484870403]  |1.0       |\n",
      "|[1.0,1.0,10140.0,11298.0]|0        |[-14893.23306768946,-14891.602602002122] |[0.16376657671365463,0.8362334232863454]  |1.0       |\n",
      "|[1.0,1.0,10140.0,11298.0]|1        |[-14893.23306768946,-14891.602602002122] |[0.16376657671365463,0.8362334232863454]  |1.0       |\n",
      "|[1.0,1.0,10140.0,12266.0]|1        |[-15565.460450814082,-15561.152263901111]|[0.013279217135528374,0.9867207828644717] |1.0       |\n",
      "|[1.0,1.0,10299.0,12173.0]|0        |[-15611.125146899514,-15607.516946938134]|[0.026385522003500486,0.9736144779964996] |1.0       |\n",
      "|[1.0,1.0,10299.0,13487.0]|0        |[-16523.632152504633,-16516.389111953915]|[7.146229984800281E-4,0.99928537700152]   |1.0       |\n",
      "|[1.0,1.0,10299.0,13930.0]|0        |[-16831.27340325278,-16822.804917967605] |[2.0993864305682657E-4,0.999790061356943] |1.0       |\n",
      "|[1.0,1.0,10299.0,14057.0]|0        |[-16919.46852479909,-16910.648726915097] |[1.4775639038154998E-4,0.9998522436096184]|1.0       |\n",
      "|[1.0,1.0,10299.0,14747.0]|0        |[-17398.63887020817,-17387.91036607863]  |[2.191090629676687E-5,0.9999780890937032] |1.0       |\n",
      "|[1.0,1.0,10299.0,14747.0]|0        |[-17398.63887020817,-17387.91036607863]  |[2.191090629676687E-5,0.9999780890937032] |1.0       |\n",
      "|[1.0,1.0,10299.0,14747.0]|0        |[-17398.63887020817,-17387.91036607863]  |[2.191090629676687E-5,0.9999780890937032] |1.0       |\n",
      "|[1.0,1.0,10299.0,14747.0]|0        |[-17398.63887020817,-17387.91036607863]  |[2.191090629676687E-5,0.9999780890937032] |1.0       |\n",
      "|[1.0,1.0,10299.0,14747.0]|0        |[-17398.63887020817,-17387.91036607863]  |[2.191090629676687E-5,0.9999780890937032] |1.0       |\n",
      "|[1.0,1.0,10299.0,14869.0]|0        |[-17483.361742874702,-17472.295757351025]|[1.563495947875322E-5,0.9999843650405214] |1.0       |\n",
      "|[1.0,1.0,10397.0,10423.0]|0        |[-14463.789960200751,-14465.295557356929]|[0.818407788779001,0.1815922112209989]    |0.0       |\n",
      "|[1.0,1.0,10397.0,10529.0]|0        |[-14537.401636452001,-14538.614012069009]|[0.7707190171700389,0.2292809828299612]   |0.0       |\n",
      "|[1.0,1.0,10397.0,10529.0]|0        |[-14537.401636452001,-14538.614012069009]|[0.7707190171700389,0.2292809828299612]   |0.0       |\n",
      "|[1.0,1.0,10397.0,10529.0]|1        |[-14537.401636452001,-14538.614012069009]|[0.7707190171700389,0.2292809828299612]   |0.0       |\n",
      "+-------------------------+---------+-----------------------------------------+------------------------------------------+----------+\n",
      "only showing top 20 rows\n",
      "\n"
     ]
    }
   ],
   "source": [
    "# Generate the model predictions for the testing data\n",
    "prediction = model.transform(testingDataFinal)\n",
    "\n",
    "prediction.show(truncate=False)"
   ]
  },
  {
   "cell_type": "code",
   "execution_count": 19,
   "metadata": {},
   "outputs": [
    {
     "name": "stdout",
     "output_type": "stream",
     "text": [
      "+-------------------------+----------+------------------------------------------+---------+\n",
      "|features                 |prediction|probability                               |trueLabel|\n",
      "+-------------------------+----------+------------------------------------------+---------+\n",
      "|[1.0,1.0,10140.0,10397.0]|0.0       |[0.7030610975119547,0.2969389024880454]   |0        |\n",
      "|[1.0,1.0,10140.0,11292.0]|1.0       |[0.16605225151295977,0.8339477484870403]  |0        |\n",
      "|[1.0,1.0,10140.0,11292.0]|1.0       |[0.16605225151295977,0.8339477484870403]  |0        |\n",
      "|[1.0,1.0,10140.0,11298.0]|1.0       |[0.16376657671365463,0.8362334232863454]  |0        |\n",
      "|[1.0,1.0,10140.0,11298.0]|1.0       |[0.16376657671365463,0.8362334232863454]  |1        |\n",
      "|[1.0,1.0,10140.0,12266.0]|1.0       |[0.013279217135528374,0.9867207828644717] |1        |\n",
      "|[1.0,1.0,10299.0,12173.0]|1.0       |[0.026385522003500486,0.9736144779964996] |0        |\n",
      "|[1.0,1.0,10299.0,13487.0]|1.0       |[7.146229984800281E-4,0.99928537700152]   |0        |\n",
      "|[1.0,1.0,10299.0,13930.0]|1.0       |[2.0993864305682657E-4,0.999790061356943] |0        |\n",
      "|[1.0,1.0,10299.0,14057.0]|1.0       |[1.4775639038154998E-4,0.9998522436096184]|0        |\n",
      "|[1.0,1.0,10299.0,14747.0]|1.0       |[2.191090629676687E-5,0.9999780890937032] |0        |\n",
      "|[1.0,1.0,10299.0,14747.0]|1.0       |[2.191090629676687E-5,0.9999780890937032] |0        |\n",
      "|[1.0,1.0,10299.0,14747.0]|1.0       |[2.191090629676687E-5,0.9999780890937032] |0        |\n",
      "|[1.0,1.0,10299.0,14747.0]|1.0       |[2.191090629676687E-5,0.9999780890937032] |0        |\n",
      "|[1.0,1.0,10299.0,14747.0]|1.0       |[2.191090629676687E-5,0.9999780890937032] |0        |\n",
      "|[1.0,1.0,10299.0,14869.0]|1.0       |[1.563495947875322E-5,0.9999843650405214] |0        |\n",
      "|[1.0,1.0,10397.0,10423.0]|0.0       |[0.818407788779001,0.1815922112209989]    |0        |\n",
      "|[1.0,1.0,10397.0,10529.0]|0.0       |[0.7707190171700389,0.2292809828299612]   |0        |\n",
      "|[1.0,1.0,10397.0,10529.0]|0.0       |[0.7707190171700389,0.2292809828299612]   |0        |\n",
      "|[1.0,1.0,10397.0,10529.0]|0.0       |[0.7707190171700389,0.2292809828299612]   |1        |\n",
      "+-------------------------+----------+------------------------------------------+---------+\n",
      "only showing top 20 rows\n",
      "\n"
     ]
    }
   ],
   "source": [
    "# Take only the relevant columns\n",
    "predictionFinal = prediction.select(\"features\", \"prediction\", \"probability\", \"trueLabel\")\n",
    "\n",
    "predictionFinal.show(truncate=False)"
   ]
  },
  {
   "cell_type": "markdown",
   "metadata": {},
   "source": [
    "# Calculate model performance and accuracy"
   ]
  },
  {
   "cell_type": "code",
   "execution_count": 20,
   "metadata": {},
   "outputs": [
    {
     "name": "stdout",
     "output_type": "stream",
     "text": [
      "correct prediction: 452333 , total data: 809206 , accuracy: 0.5589837445594817\n"
     ]
    }
   ],
   "source": [
    "# Get the correct predictions\n",
    "correctPrediction = predictionFinal.filter(predictionFinal['prediction'] == predictionFinal['trueLabel']).count()\n",
    "\n",
    "# Get the total data count\n",
    "totalData = predictionFinal.count()\n",
    "\n",
    "print(\"correct prediction:\", correctPrediction, \", total data:\", totalData, \", accuracy:\", correctPrediction/totalData)"
   ]
  }
 ],
 "metadata": {
  "kernelspec": {
   "display_name": "base",
   "language": "python",
   "name": "python3"
  },
  "language_info": {
   "codemirror_mode": {
    "name": "ipython",
    "version": 3
   },
   "file_extension": ".py",
   "mimetype": "text/x-python",
   "name": "python",
   "nbconvert_exporter": "python",
   "pygments_lexer": "ipython3",
   "version": "3.12.7"
  }
 },
 "nbformat": 4,
 "nbformat_minor": 4
}
